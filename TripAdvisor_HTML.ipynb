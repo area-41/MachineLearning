{
 "cells": [
  {
   "cell_type": "markdown",
   "id": "c74fb154",
   "metadata": {},
   "source": [
    "<div align=\"center\"> <h1 align=\"center\">Pontifícia Universidade Católica do Paraná</h1> </div>\n",
    "<div align=\"center\"> <h2 align=\"center\">Disciplina de Técnicas de Machine Learning</h2> </div>"
   ]
  },
  {
   "cell_type": "markdown",
   "id": "d7b6b7b2",
   "metadata": {},
   "source": [
    "<div align=\"center\"> <h3 align=\"center\">avaliações TRIP ADVISOR  --->  Base de Dados UCI</h3> </div>\n",
    "&nbsp;&nbsp;&nbsp;&nbsp;\n",
    "\n",
    "Nome do arquivo: tripadvisor_reviews.csv\\\n",
    "Fonte Original do arquivo: https://archive.ics.uci.edu/ml/datasets/Travel+Reviews\n",
    "\n",
    "<div align=\"center\"> <h4 align=\"left\">Esta base de dados (dataset) contém as médias das notas, que diversos usuários do portal Trip Advisor deram a diferentes locais na Ásia.</h4> </div>\n",
    "&nbsp;&nbsp;&nbsp;&nbsp;\n",
    "\n",
    "<div align=\"center\">IMPORTANTE!! O dataset usado foi ligeiramente alterado em relação à versão disponível na fonte original.</div>\n",
    "\n",
    "\n",
    "\n",
    "#### Este projeto busca prever, a partir das notas dadas por um usuário em outras categorias, qual seria a nota média que ele daria para as baladas (coluna “media_baladas”).\n",
    "\n",
    " - Entradas: através da biblioteca Pandas está lendo o arquivo csv tripadvisor_reviews.csv\n",
    " - Saídas: uma predição utilizando o modelo nao supervisionado KNN (apresentou a maior precisão nos testes).\n",
    " - Período: 980 usuários X 10 categorias, coletados em diferentes locais da Ásia.\n",
    " - Objetivo: buscando prever a nota media para um item, segundo as notas dadas por esse usuario para outros itens.\n",
    " - Autoria: desenvolvido por Victor Marques - PUCPR - 30.10.2021"
   ]
  },
  {
   "cell_type": "markdown",
   "id": "905f7ade",
   "metadata": {},
   "source": [
    "##### Preparando o sistema, importando as Bibliotecas..."
   ]
  },
  {
   "cell_type": "code",
   "execution_count": 130,
   "id": "c70bf153",
   "metadata": {},
   "outputs": [],
   "source": [
    "# importando as bibliotecas usadas\n",
    "import pandas as pd\n",
    "import numpy as np"
   ]
  },
  {
   "cell_type": "markdown",
   "id": "f025584e",
   "metadata": {},
   "source": [
    "##### e a base de dados."
   ]
  },
  {
   "cell_type": "code",
   "execution_count": 131,
   "id": "1c4012ee",
   "metadata": {
    "scrolled": false
   },
   "outputs": [],
   "source": [
    "# importando a base de dados TripAdvisor\n",
    "df = pd.read_csv('tripadvisor_reviews.csv' , sep=';')"
   ]
  },
  {
   "cell_type": "markdown",
   "id": "a2707a75",
   "metadata": {},
   "source": [
    "##### Assim ela está:"
   ]
  },
  {
   "cell_type": "code",
   "execution_count": 132,
   "id": "d968cd29",
   "metadata": {
    "scrolled": true
   },
   "outputs": [
    {
     "data": {
      "text/html": [
       "<div>\n",
       "<style scoped>\n",
       "    .dataframe tbody tr th:only-of-type {\n",
       "        vertical-align: middle;\n",
       "    }\n",
       "\n",
       "    .dataframe tbody tr th {\n",
       "        vertical-align: top;\n",
       "    }\n",
       "\n",
       "    .dataframe thead th {\n",
       "        text-align: right;\n",
       "    }\n",
       "</style>\n",
       "<table border=\"1\" class=\"dataframe\">\n",
       "  <thead>\n",
       "    <tr style=\"text-align: right;\">\n",
       "      <th></th>\n",
       "      <th>usuario</th>\n",
       "      <th>media_galerias_arte</th>\n",
       "      <th>media_baladas</th>\n",
       "      <th>media_loja_sucos</th>\n",
       "      <th>media_restaurantes</th>\n",
       "      <th>media_museus</th>\n",
       "      <th>media_resorts</th>\n",
       "      <th>media_parques</th>\n",
       "      <th>media_praias</th>\n",
       "      <th>media_teatros</th>\n",
       "      <th>media_templos_religiosos</th>\n",
       "    </tr>\n",
       "  </thead>\n",
       "  <tbody>\n",
       "    <tr>\n",
       "      <th>10</th>\n",
       "      <td>User 11</td>\n",
       "      <td>1,47</td>\n",
       "      <td>1</td>\n",
       "      <td>0,7</td>\n",
       "      <td>0,75</td>\n",
       "      <td>1,66</td>\n",
       "      <td>2,76</td>\n",
       "      <td>3,18</td>\n",
       "      <td>2,89</td>\n",
       "      <td>1,66</td>\n",
       "      <td>2,62</td>\n",
       "    </tr>\n",
       "    <tr>\n",
       "      <th>13</th>\n",
       "      <td>User 14</td>\n",
       "      <td>0,58</td>\n",
       "      <td>1,64</td>\n",
       "      <td>2,27</td>\n",
       "      <td>0,45</td>\n",
       "      <td>1,26</td>\n",
       "      <td>1,72</td>\n",
       "      <td>3,19</td>\n",
       "      <td>2,91</td>\n",
       "      <td>2,3</td>\n",
       "      <td>2,74</td>\n",
       "    </tr>\n",
       "    <tr>\n",
       "      <th>16</th>\n",
       "      <td>User 17</td>\n",
       "      <td>0,86</td>\n",
       "      <td>1,04</td>\n",
       "      <td>1,76</td>\n",
       "      <td>0,34</td>\n",
       "      <td>0,06</td>\n",
       "      <td>1,1</td>\n",
       "      <td>3,18</td>\n",
       "      <td>2,73</td>\n",
       "      <td>1,15</td>\n",
       "      <td>2,98</td>\n",
       "    </tr>\n",
       "    <tr>\n",
       "      <th>19</th>\n",
       "      <td>User 20</td>\n",
       "      <td>0,8</td>\n",
       "      <td>1,04</td>\n",
       "      <td>2,1</td>\n",
       "      <td>0,58</td>\n",
       "      <td>1,18</td>\n",
       "      <td>1,98</td>\n",
       "      <td>3,19</td>\n",
       "      <td>2,93</td>\n",
       "      <td>1,22</td>\n",
       "      <td>2,48</td>\n",
       "    </tr>\n",
       "    <tr>\n",
       "      <th>22</th>\n",
       "      <td>User 23</td>\n",
       "      <td>0,93</td>\n",
       "      <td>1,16</td>\n",
       "      <td>0,29</td>\n",
       "      <td>0,41</td>\n",
       "      <td>1,02</td>\n",
       "      <td>1,36</td>\n",
       "      <td>3,16</td>\n",
       "      <td>2,74</td>\n",
       "      <td>1,34</td>\n",
       "      <td>3,66</td>\n",
       "    </tr>\n",
       "    <tr>\n",
       "      <th>25</th>\n",
       "      <td>User 26</td>\n",
       "      <td>0,61</td>\n",
       "      <td>2,84</td>\n",
       "      <td>2,8</td>\n",
       "      <td>0,48</td>\n",
       "      <td>0,56</td>\n",
       "      <td>1,52</td>\n",
       "      <td>3,19</td>\n",
       "      <td>2,54</td>\n",
       "      <td>1,6</td>\n",
       "      <td>2,54</td>\n",
       "    </tr>\n",
       "    <tr>\n",
       "      <th>28</th>\n",
       "      <td>User 29</td>\n",
       "      <td>0,58</td>\n",
       "      <td>1,2</td>\n",
       "      <td>0,18</td>\n",
       "      <td>0,38</td>\n",
       "      <td>0,54</td>\n",
       "      <td>0,76</td>\n",
       "      <td>3,17</td>\n",
       "      <td>2,69</td>\n",
       "      <td>1,63</td>\n",
       "      <td>2,94</td>\n",
       "    </tr>\n",
       "    <tr>\n",
       "      <th>31</th>\n",
       "      <td>User 32</td>\n",
       "      <td>0,7</td>\n",
       "      <td>2,24</td>\n",
       "      <td>2,32</td>\n",
       "      <td>0,63</td>\n",
       "      <td>0,72</td>\n",
       "      <td>2,12</td>\n",
       "      <td>3,19</td>\n",
       "      <td>2,65</td>\n",
       "      <td>1,28</td>\n",
       "      <td>2,42</td>\n",
       "    </tr>\n",
       "    <tr>\n",
       "      <th>34</th>\n",
       "      <td>User 35</td>\n",
       "      <td>0,96</td>\n",
       "      <td>1,16</td>\n",
       "      <td>0,45</td>\n",
       "      <td>0,29</td>\n",
       "      <td>0,98</td>\n",
       "      <td>1,42</td>\n",
       "      <td>3,18</td>\n",
       "      <td>2,94</td>\n",
       "      <td>2,02</td>\n",
       "      <td>3,02</td>\n",
       "    </tr>\n",
       "    <tr>\n",
       "      <th>37</th>\n",
       "      <td>User 38</td>\n",
       "      <td>1,02</td>\n",
       "      <td>1,36</td>\n",
       "      <td>0,91</td>\n",
       "      <td>0,5</td>\n",
       "      <td>0,72</td>\n",
       "      <td>1,22</td>\n",
       "      <td>3,18</td>\n",
       "      <td>2,91</td>\n",
       "      <td>1,92</td>\n",
       "      <td>3,2</td>\n",
       "    </tr>\n",
       "  </tbody>\n",
       "</table>\n",
       "</div>"
      ],
      "text/plain": [
       "    usuario media_galerias_arte media_baladas media_loja_sucos  \\\n",
       "10  User 11                1,47             1              0,7   \n",
       "13  User 14                0,58          1,64             2,27   \n",
       "16  User 17                0,86          1,04             1,76   \n",
       "19  User 20                 0,8          1,04              2,1   \n",
       "22  User 23                0,93          1,16             0,29   \n",
       "25  User 26                0,61          2,84              2,8   \n",
       "28  User 29                0,58           1,2             0,18   \n",
       "31  User 32                 0,7          2,24             2,32   \n",
       "34  User 35                0,96          1,16             0,45   \n",
       "37  User 38                1,02          1,36             0,91   \n",
       "\n",
       "   media_restaurantes media_museus media_resorts media_parques media_praias  \\\n",
       "10               0,75         1,66          2,76          3,18         2,89   \n",
       "13               0,45         1,26          1,72          3,19         2,91   \n",
       "16               0,34         0,06           1,1          3,18         2,73   \n",
       "19               0,58         1,18          1,98          3,19         2,93   \n",
       "22               0,41         1,02          1,36          3,16         2,74   \n",
       "25               0,48         0,56          1,52          3,19         2,54   \n",
       "28               0,38         0,54          0,76          3,17         2,69   \n",
       "31               0,63         0,72          2,12          3,19         2,65   \n",
       "34               0,29         0,98          1,42          3,18         2,94   \n",
       "37                0,5         0,72          1,22          3,18         2,91   \n",
       "\n",
       "   media_teatros media_templos_religiosos  \n",
       "10          1,66                     2,62  \n",
       "13           2,3                     2,74  \n",
       "16          1,15                     2,98  \n",
       "19          1,22                     2,48  \n",
       "22          1,34                     3,66  \n",
       "25           1,6                     2,54  \n",
       "28          1,63                     2,94  \n",
       "31          1,28                     2,42  \n",
       "34          2,02                     3,02  \n",
       "37          1,92                      3,2  "
      ]
     },
     "execution_count": 132,
     "metadata": {},
     "output_type": "execute_result"
    }
   ],
   "source": [
    "df[10:39:3]"
   ]
  },
  {
   "cell_type": "markdown",
   "id": "21fd6eb2",
   "metadata": {},
   "source": [
    "##### Então mudamos os nomes da colunas e removemos a coluna usuário, que não importa para o Aprendizado da Máquina..."
   ]
  },
  {
   "cell_type": "code",
   "execution_count": 133,
   "id": "94708c26",
   "metadata": {},
   "outputs": [
    {
     "data": {
      "text/plain": [
       "Index(['Galerias Arte', 'Baladas', 'Loja Sucos', 'Restaurantes', 'Museus',\n",
       "       'Resorts', 'Parques', 'Praias', 'Teatros', 'Templos Religiosos'],\n",
       "      dtype='object')"
      ]
     },
     "metadata": {},
     "output_type": "display_data"
    }
   ],
   "source": [
    "df.drop(columns=['usuario'], inplace=True)\n",
    "df.columns = df.columns.str.replace('media_', '').str.title().str.replace('_', ' ')\n",
    "display(df.columns)"
   ]
  },
  {
   "cell_type": "markdown",
   "id": "4e393606",
   "metadata": {},
   "source": [
    "##### Aqui vemos se a base de dados possui algum campos vazio."
   ]
  },
  {
   "cell_type": "code",
   "execution_count": 134,
   "id": "fd976105",
   "metadata": {},
   "outputs": [
    {
     "data": {
      "text/plain": [
       "Galerias Arte         0\n",
       "Baladas               0\n",
       "Loja Sucos            0\n",
       "Restaurantes          0\n",
       "Museus                0\n",
       "Resorts               0\n",
       "Parques               0\n",
       "Praias                0\n",
       "Teatros               0\n",
       "Templos Religiosos    0\n",
       "dtype: int64"
      ]
     },
     "execution_count": 134,
     "metadata": {},
     "output_type": "execute_result"
    }
   ],
   "source": [
    "df.isnull().sum()"
   ]
  },
  {
   "cell_type": "markdown",
   "id": "9145b8bc",
   "metadata": {
    "scrolled": true
   },
   "source": [
    "##### e convertemos vírgulas em pontos para que a função profiling da bibliotecas pandas funcione."
   ]
  },
  {
   "cell_type": "code",
   "execution_count": 135,
   "id": "d4a78f74",
   "metadata": {
    "scrolled": true
   },
   "outputs": [],
   "source": [
    "# convertendo a virgula em ponto\n",
    "df = df.apply(lambda col: col.str.replace(',', '.').astype(float))"
   ]
  },
  {
   "cell_type": "code",
   "execution_count": 136,
   "id": "7c8fee3e",
   "metadata": {},
   "outputs": [
    {
     "data": {
      "text/html": [
       "<div>\n",
       "<style scoped>\n",
       "    .dataframe tbody tr th:only-of-type {\n",
       "        vertical-align: middle;\n",
       "    }\n",
       "\n",
       "    .dataframe tbody tr th {\n",
       "        vertical-align: top;\n",
       "    }\n",
       "\n",
       "    .dataframe thead th {\n",
       "        text-align: right;\n",
       "    }\n",
       "</style>\n",
       "<table border=\"1\" class=\"dataframe\">\n",
       "  <thead>\n",
       "    <tr style=\"text-align: right;\">\n",
       "      <th></th>\n",
       "      <th>Galerias Arte</th>\n",
       "      <th>Baladas</th>\n",
       "      <th>Loja Sucos</th>\n",
       "      <th>Restaurantes</th>\n",
       "      <th>Museus</th>\n",
       "      <th>Resorts</th>\n",
       "      <th>Parques</th>\n",
       "      <th>Praias</th>\n",
       "      <th>Teatros</th>\n",
       "      <th>Templos Religiosos</th>\n",
       "    </tr>\n",
       "  </thead>\n",
       "  <tbody>\n",
       "    <tr>\n",
       "      <th>10</th>\n",
       "      <td>1.47</td>\n",
       "      <td>1.00</td>\n",
       "      <td>0.70</td>\n",
       "      <td>0.75</td>\n",
       "      <td>1.66</td>\n",
       "      <td>2.76</td>\n",
       "      <td>3.18</td>\n",
       "      <td>2.89</td>\n",
       "      <td>1.66</td>\n",
       "      <td>2.62</td>\n",
       "    </tr>\n",
       "    <tr>\n",
       "      <th>13</th>\n",
       "      <td>0.58</td>\n",
       "      <td>1.64</td>\n",
       "      <td>2.27</td>\n",
       "      <td>0.45</td>\n",
       "      <td>1.26</td>\n",
       "      <td>1.72</td>\n",
       "      <td>3.19</td>\n",
       "      <td>2.91</td>\n",
       "      <td>2.30</td>\n",
       "      <td>2.74</td>\n",
       "    </tr>\n",
       "    <tr>\n",
       "      <th>16</th>\n",
       "      <td>0.86</td>\n",
       "      <td>1.04</td>\n",
       "      <td>1.76</td>\n",
       "      <td>0.34</td>\n",
       "      <td>0.06</td>\n",
       "      <td>1.10</td>\n",
       "      <td>3.18</td>\n",
       "      <td>2.73</td>\n",
       "      <td>1.15</td>\n",
       "      <td>2.98</td>\n",
       "    </tr>\n",
       "    <tr>\n",
       "      <th>19</th>\n",
       "      <td>0.80</td>\n",
       "      <td>1.04</td>\n",
       "      <td>2.10</td>\n",
       "      <td>0.58</td>\n",
       "      <td>1.18</td>\n",
       "      <td>1.98</td>\n",
       "      <td>3.19</td>\n",
       "      <td>2.93</td>\n",
       "      <td>1.22</td>\n",
       "      <td>2.48</td>\n",
       "    </tr>\n",
       "    <tr>\n",
       "      <th>22</th>\n",
       "      <td>0.93</td>\n",
       "      <td>1.16</td>\n",
       "      <td>0.29</td>\n",
       "      <td>0.41</td>\n",
       "      <td>1.02</td>\n",
       "      <td>1.36</td>\n",
       "      <td>3.16</td>\n",
       "      <td>2.74</td>\n",
       "      <td>1.34</td>\n",
       "      <td>3.66</td>\n",
       "    </tr>\n",
       "    <tr>\n",
       "      <th>25</th>\n",
       "      <td>0.61</td>\n",
       "      <td>2.84</td>\n",
       "      <td>2.80</td>\n",
       "      <td>0.48</td>\n",
       "      <td>0.56</td>\n",
       "      <td>1.52</td>\n",
       "      <td>3.19</td>\n",
       "      <td>2.54</td>\n",
       "      <td>1.60</td>\n",
       "      <td>2.54</td>\n",
       "    </tr>\n",
       "    <tr>\n",
       "      <th>28</th>\n",
       "      <td>0.58</td>\n",
       "      <td>1.20</td>\n",
       "      <td>0.18</td>\n",
       "      <td>0.38</td>\n",
       "      <td>0.54</td>\n",
       "      <td>0.76</td>\n",
       "      <td>3.17</td>\n",
       "      <td>2.69</td>\n",
       "      <td>1.63</td>\n",
       "      <td>2.94</td>\n",
       "    </tr>\n",
       "    <tr>\n",
       "      <th>31</th>\n",
       "      <td>0.70</td>\n",
       "      <td>2.24</td>\n",
       "      <td>2.32</td>\n",
       "      <td>0.63</td>\n",
       "      <td>0.72</td>\n",
       "      <td>2.12</td>\n",
       "      <td>3.19</td>\n",
       "      <td>2.65</td>\n",
       "      <td>1.28</td>\n",
       "      <td>2.42</td>\n",
       "    </tr>\n",
       "    <tr>\n",
       "      <th>34</th>\n",
       "      <td>0.96</td>\n",
       "      <td>1.16</td>\n",
       "      <td>0.45</td>\n",
       "      <td>0.29</td>\n",
       "      <td>0.98</td>\n",
       "      <td>1.42</td>\n",
       "      <td>3.18</td>\n",
       "      <td>2.94</td>\n",
       "      <td>2.02</td>\n",
       "      <td>3.02</td>\n",
       "    </tr>\n",
       "    <tr>\n",
       "      <th>37</th>\n",
       "      <td>1.02</td>\n",
       "      <td>1.36</td>\n",
       "      <td>0.91</td>\n",
       "      <td>0.50</td>\n",
       "      <td>0.72</td>\n",
       "      <td>1.22</td>\n",
       "      <td>3.18</td>\n",
       "      <td>2.91</td>\n",
       "      <td>1.92</td>\n",
       "      <td>3.20</td>\n",
       "    </tr>\n",
       "  </tbody>\n",
       "</table>\n",
       "</div>"
      ],
      "text/plain": [
       "    Galerias Arte  Baladas  Loja Sucos  Restaurantes  Museus  Resorts  \\\n",
       "10           1.47     1.00        0.70          0.75    1.66     2.76   \n",
       "13           0.58     1.64        2.27          0.45    1.26     1.72   \n",
       "16           0.86     1.04        1.76          0.34    0.06     1.10   \n",
       "19           0.80     1.04        2.10          0.58    1.18     1.98   \n",
       "22           0.93     1.16        0.29          0.41    1.02     1.36   \n",
       "25           0.61     2.84        2.80          0.48    0.56     1.52   \n",
       "28           0.58     1.20        0.18          0.38    0.54     0.76   \n",
       "31           0.70     2.24        2.32          0.63    0.72     2.12   \n",
       "34           0.96     1.16        0.45          0.29    0.98     1.42   \n",
       "37           1.02     1.36        0.91          0.50    0.72     1.22   \n",
       "\n",
       "    Parques  Praias  Teatros  Templos Religiosos  \n",
       "10     3.18    2.89     1.66                2.62  \n",
       "13     3.19    2.91     2.30                2.74  \n",
       "16     3.18    2.73     1.15                2.98  \n",
       "19     3.19    2.93     1.22                2.48  \n",
       "22     3.16    2.74     1.34                3.66  \n",
       "25     3.19    2.54     1.60                2.54  \n",
       "28     3.17    2.69     1.63                2.94  \n",
       "31     3.19    2.65     1.28                2.42  \n",
       "34     3.18    2.94     2.02                3.02  \n",
       "37     3.18    2.91     1.92                3.20  "
      ]
     },
     "execution_count": 136,
     "metadata": {},
     "output_type": "execute_result"
    }
   ],
   "source": [
    "df[10:39:3]"
   ]
  },
  {
   "cell_type": "markdown",
   "id": "25ce0562",
   "metadata": {},
   "source": [
    "##### Analisamos médias, nota mínima e máxima, padrão de desvio, quartis e se todas as categorias tem notas."
   ]
  },
  {
   "cell_type": "code",
   "execution_count": 137,
   "id": "f645ffff",
   "metadata": {},
   "outputs": [
    {
     "data": {
      "text/html": [
       "<div>\n",
       "<style scoped>\n",
       "    .dataframe tbody tr th:only-of-type {\n",
       "        vertical-align: middle;\n",
       "    }\n",
       "\n",
       "    .dataframe tbody tr th {\n",
       "        vertical-align: top;\n",
       "    }\n",
       "\n",
       "    .dataframe thead th {\n",
       "        text-align: right;\n",
       "    }\n",
       "</style>\n",
       "<table border=\"1\" class=\"dataframe\">\n",
       "  <thead>\n",
       "    <tr style=\"text-align: right;\">\n",
       "      <th></th>\n",
       "      <th>Galerias Arte</th>\n",
       "      <th>Baladas</th>\n",
       "      <th>Loja Sucos</th>\n",
       "      <th>Restaurantes</th>\n",
       "      <th>Museus</th>\n",
       "      <th>Resorts</th>\n",
       "      <th>Parques</th>\n",
       "      <th>Praias</th>\n",
       "      <th>Teatros</th>\n",
       "      <th>Templos Religiosos</th>\n",
       "    </tr>\n",
       "  </thead>\n",
       "  <tbody>\n",
       "    <tr>\n",
       "      <th>count</th>\n",
       "      <td>980.000</td>\n",
       "      <td>980.000</td>\n",
       "      <td>980.000</td>\n",
       "      <td>980.000</td>\n",
       "      <td>980.000</td>\n",
       "      <td>980.000</td>\n",
       "      <td>980.000</td>\n",
       "      <td>980.000</td>\n",
       "      <td>980.000</td>\n",
       "      <td>980.000</td>\n",
       "    </tr>\n",
       "    <tr>\n",
       "      <th>mean</th>\n",
       "      <td>0.893</td>\n",
       "      <td>1.353</td>\n",
       "      <td>1.013</td>\n",
       "      <td>0.532</td>\n",
       "      <td>0.940</td>\n",
       "      <td>1.843</td>\n",
       "      <td>3.181</td>\n",
       "      <td>2.835</td>\n",
       "      <td>1.569</td>\n",
       "      <td>2.799</td>\n",
       "    </tr>\n",
       "    <tr>\n",
       "      <th>std</th>\n",
       "      <td>0.327</td>\n",
       "      <td>0.478</td>\n",
       "      <td>0.789</td>\n",
       "      <td>0.280</td>\n",
       "      <td>0.437</td>\n",
       "      <td>0.540</td>\n",
       "      <td>0.008</td>\n",
       "      <td>0.138</td>\n",
       "      <td>0.365</td>\n",
       "      <td>0.321</td>\n",
       "    </tr>\n",
       "    <tr>\n",
       "      <th>min</th>\n",
       "      <td>0.340</td>\n",
       "      <td>0.000</td>\n",
       "      <td>0.130</td>\n",
       "      <td>0.150</td>\n",
       "      <td>0.060</td>\n",
       "      <td>0.140</td>\n",
       "      <td>3.160</td>\n",
       "      <td>2.420</td>\n",
       "      <td>0.740</td>\n",
       "      <td>2.140</td>\n",
       "    </tr>\n",
       "    <tr>\n",
       "      <th>25%</th>\n",
       "      <td>0.670</td>\n",
       "      <td>1.080</td>\n",
       "      <td>0.270</td>\n",
       "      <td>0.410</td>\n",
       "      <td>0.640</td>\n",
       "      <td>1.460</td>\n",
       "      <td>3.180</td>\n",
       "      <td>2.740</td>\n",
       "      <td>1.310</td>\n",
       "      <td>2.540</td>\n",
       "    </tr>\n",
       "    <tr>\n",
       "      <th>50%</th>\n",
       "      <td>0.830</td>\n",
       "      <td>1.280</td>\n",
       "      <td>0.820</td>\n",
       "      <td>0.500</td>\n",
       "      <td>0.900</td>\n",
       "      <td>1.800</td>\n",
       "      <td>3.180</td>\n",
       "      <td>2.820</td>\n",
       "      <td>1.540</td>\n",
       "      <td>2.780</td>\n",
       "    </tr>\n",
       "    <tr>\n",
       "      <th>75%</th>\n",
       "      <td>1.020</td>\n",
       "      <td>1.560</td>\n",
       "      <td>1.572</td>\n",
       "      <td>0.580</td>\n",
       "      <td>1.200</td>\n",
       "      <td>2.200</td>\n",
       "      <td>3.180</td>\n",
       "      <td>2.910</td>\n",
       "      <td>1.760</td>\n",
       "      <td>3.040</td>\n",
       "    </tr>\n",
       "    <tr>\n",
       "      <th>max</th>\n",
       "      <td>3.220</td>\n",
       "      <td>3.640</td>\n",
       "      <td>3.620</td>\n",
       "      <td>3.440</td>\n",
       "      <td>3.300</td>\n",
       "      <td>3.760</td>\n",
       "      <td>3.210</td>\n",
       "      <td>3.390</td>\n",
       "      <td>3.170</td>\n",
       "      <td>3.660</td>\n",
       "    </tr>\n",
       "  </tbody>\n",
       "</table>\n",
       "</div>"
      ],
      "text/plain": [
       "       Galerias Arte  Baladas  Loja Sucos  Restaurantes   Museus  Resorts  \\\n",
       "count        980.000  980.000     980.000       980.000  980.000  980.000   \n",
       "mean           0.893    1.353       1.013         0.532    0.940    1.843   \n",
       "std            0.327    0.478       0.789         0.280    0.437    0.540   \n",
       "min            0.340    0.000       0.130         0.150    0.060    0.140   \n",
       "25%            0.670    1.080       0.270         0.410    0.640    1.460   \n",
       "50%            0.830    1.280       0.820         0.500    0.900    1.800   \n",
       "75%            1.020    1.560       1.572         0.580    1.200    2.200   \n",
       "max            3.220    3.640       3.620         3.440    3.300    3.760   \n",
       "\n",
       "       Parques   Praias  Teatros  Templos Religiosos  \n",
       "count  980.000  980.000  980.000             980.000  \n",
       "mean     3.181    2.835    1.569               2.799  \n",
       "std      0.008    0.138    0.365               0.321  \n",
       "min      3.160    2.420    0.740               2.140  \n",
       "25%      3.180    2.740    1.310               2.540  \n",
       "50%      3.180    2.820    1.540               2.780  \n",
       "75%      3.180    2.910    1.760               3.040  \n",
       "max      3.210    3.390    3.170               3.660  "
      ]
     },
     "execution_count": 137,
     "metadata": {},
     "output_type": "execute_result"
    }
   ],
   "source": [
    "df.describe().round(3)"
   ]
  },
  {
   "cell_type": "code",
   "execution_count": 138,
   "id": "78df03da",
   "metadata": {},
   "outputs": [],
   "source": [
    "# !pip install pandas_profiling"
   ]
  },
  {
   "cell_type": "markdown",
   "id": "4ab5f8df",
   "metadata": {},
   "source": [
    "##### E levantando maiores detalhes sobre cada categoria."
   ]
  },
  {
   "cell_type": "code",
   "execution_count": 139,
   "id": "4642b360",
   "metadata": {
    "scrolled": true
   },
   "outputs": [
    {
     "data": {
      "application/vnd.jupyter.widget-view+json": {
       "model_id": "7f77cf96631b4c18b50907b9c4bbf06b",
       "version_major": 2,
       "version_minor": 0
      },
      "text/plain": [
       "Summarize dataset:   0%|          | 0/5 [00:00<?, ?it/s]"
      ]
     },
     "metadata": {},
     "output_type": "display_data"
    },
    {
     "data": {
      "application/vnd.jupyter.widget-view+json": {
       "model_id": "42aad24711274ada91aad3a58da69b17",
       "version_major": 2,
       "version_minor": 0
      },
      "text/plain": [
       "Generate report structure:   0%|          | 0/1 [00:00<?, ?it/s]"
      ]
     },
     "metadata": {},
     "output_type": "display_data"
    },
    {
     "data": {
      "application/vnd.jupyter.widget-view+json": {
       "model_id": "",
       "version_major": 2,
       "version_minor": 0
      },
      "text/plain": [
       "Render widgets:   0%|          | 0/1 [00:00<?, ?it/s]"
      ]
     },
     "metadata": {},
     "output_type": "display_data"
    },
    {
     "data": {
      "application/vnd.jupyter.widget-view+json": {
       "model_id": "5a4c0295ebbe491381def6e59c133d57",
       "version_major": 2,
       "version_minor": 0
      },
      "text/plain": [
       "VBox(children=(Tab(children=(Tab(children=(GridBox(children=(VBox(children=(GridspecLayout(children=(HTML(valu…"
      ]
     },
     "metadata": {},
     "output_type": "display_data"
    }
   ],
   "source": [
    "from pandas_profiling import ProfileReport # importando o pandas-profiling para fazer o profile do dataset\n",
    "profile = ProfileReport(df)\n",
    "profile.to_widgets()"
   ]
  },
  {
   "cell_type": "markdown",
   "id": "2be1fbb5",
   "metadata": {},
   "source": [
    " Apesar da análise acima mostrar 37 usuários que apresentaram as mesmas notas e formarem linhas duplicadas, pode-se tomar como base que a coleta das notas apresentava apenas 6 opções de nota, como no sistema de 5 estrelas de classificação normalmente utilizado. Assim seria possível termos tantas notas iguais."
   ]
  },
  {
   "cell_type": "code",
   "execution_count": 140,
   "id": "5d1659a2",
   "metadata": {},
   "outputs": [
    {
     "data": {
      "text/plain": [
       "975    1.12\n",
       "976    0.92\n",
       "977    1.32\n",
       "978    0.20\n",
       "979    0.56\n",
       "Name: Baladas, dtype: float64"
      ]
     },
     "execution_count": 140,
     "metadata": {},
     "output_type": "execute_result"
    }
   ],
   "source": [
    "import seaborn as sns # importando o Seaborn para visualizar o comportamento dos dados\n",
    "# import math\n",
    "# math.isclose(np.var(df.values), 0)\n",
    "# sns.pairplot(df, hue=\"Baladas\")\n",
    "df['Baladas'].tail()\n",
    "# df = df.apply(lambda col: col.str.replace(',', '.').astype(int))\n",
    "# sns.kdeplot(df)"
   ]
  },
  {
   "cell_type": "code",
   "execution_count": 141,
   "id": "fea24dc9",
   "metadata": {},
   "outputs": [],
   "source": [
    "# sns.pairplot(df, hue='Baladas')"
   ]
  },
  {
   "cell_type": "code",
   "execution_count": 142,
   "id": "0f4e4b32",
   "metadata": {},
   "outputs": [
    {
     "data": {
      "text/html": [
       "<div>\n",
       "<style scoped>\n",
       "    .dataframe tbody tr th:only-of-type {\n",
       "        vertical-align: middle;\n",
       "    }\n",
       "\n",
       "    .dataframe tbody tr th {\n",
       "        vertical-align: top;\n",
       "    }\n",
       "\n",
       "    .dataframe thead th {\n",
       "        text-align: right;\n",
       "    }\n",
       "</style>\n",
       "<table border=\"1\" class=\"dataframe\">\n",
       "  <thead>\n",
       "    <tr style=\"text-align: right;\">\n",
       "      <th></th>\n",
       "      <th>Galerias Arte</th>\n",
       "      <th>Baladas</th>\n",
       "      <th>Loja Sucos</th>\n",
       "      <th>Restaurantes</th>\n",
       "      <th>Museus</th>\n",
       "      <th>Resorts</th>\n",
       "      <th>Parques</th>\n",
       "      <th>Praias</th>\n",
       "      <th>Teatros</th>\n",
       "      <th>Templos Religiosos</th>\n",
       "    </tr>\n",
       "  </thead>\n",
       "  <tbody>\n",
       "    <tr>\n",
       "      <th>0</th>\n",
       "      <td>0.93</td>\n",
       "      <td>1.80</td>\n",
       "      <td>2.29</td>\n",
       "      <td>0.62</td>\n",
       "      <td>0.80</td>\n",
       "      <td>2.42</td>\n",
       "      <td>3.19</td>\n",
       "      <td>2.79</td>\n",
       "      <td>1.82</td>\n",
       "      <td>2.42</td>\n",
       "    </tr>\n",
       "    <tr>\n",
       "      <th>1</th>\n",
       "      <td>1.02</td>\n",
       "      <td>2.20</td>\n",
       "      <td>2.66</td>\n",
       "      <td>0.64</td>\n",
       "      <td>1.42</td>\n",
       "      <td>3.18</td>\n",
       "      <td>3.21</td>\n",
       "      <td>2.63</td>\n",
       "      <td>1.86</td>\n",
       "      <td>2.32</td>\n",
       "    </tr>\n",
       "    <tr>\n",
       "      <th>2</th>\n",
       "      <td>1.22</td>\n",
       "      <td>0.80</td>\n",
       "      <td>0.54</td>\n",
       "      <td>0.53</td>\n",
       "      <td>0.24</td>\n",
       "      <td>1.54</td>\n",
       "      <td>3.18</td>\n",
       "      <td>2.80</td>\n",
       "      <td>1.31</td>\n",
       "      <td>2.50</td>\n",
       "    </tr>\n",
       "    <tr>\n",
       "      <th>3</th>\n",
       "      <td>0.45</td>\n",
       "      <td>1.80</td>\n",
       "      <td>0.29</td>\n",
       "      <td>0.57</td>\n",
       "      <td>0.46</td>\n",
       "      <td>1.52</td>\n",
       "      <td>3.18</td>\n",
       "      <td>2.96</td>\n",
       "      <td>1.57</td>\n",
       "      <td>2.86</td>\n",
       "    </tr>\n",
       "    <tr>\n",
       "      <th>4</th>\n",
       "      <td>0.51</td>\n",
       "      <td>1.20</td>\n",
       "      <td>1.18</td>\n",
       "      <td>0.57</td>\n",
       "      <td>1.54</td>\n",
       "      <td>2.02</td>\n",
       "      <td>3.18</td>\n",
       "      <td>2.78</td>\n",
       "      <td>1.18</td>\n",
       "      <td>2.54</td>\n",
       "    </tr>\n",
       "    <tr>\n",
       "      <th>...</th>\n",
       "      <td>...</td>\n",
       "      <td>...</td>\n",
       "      <td>...</td>\n",
       "      <td>...</td>\n",
       "      <td>...</td>\n",
       "      <td>...</td>\n",
       "      <td>...</td>\n",
       "      <td>...</td>\n",
       "      <td>...</td>\n",
       "      <td>...</td>\n",
       "    </tr>\n",
       "    <tr>\n",
       "      <th>975</th>\n",
       "      <td>0.74</td>\n",
       "      <td>1.12</td>\n",
       "      <td>0.30</td>\n",
       "      <td>0.53</td>\n",
       "      <td>0.88</td>\n",
       "      <td>1.38</td>\n",
       "      <td>3.17</td>\n",
       "      <td>2.78</td>\n",
       "      <td>0.99</td>\n",
       "      <td>3.20</td>\n",
       "    </tr>\n",
       "    <tr>\n",
       "      <th>976</th>\n",
       "      <td>1.25</td>\n",
       "      <td>0.92</td>\n",
       "      <td>1.12</td>\n",
       "      <td>0.38</td>\n",
       "      <td>0.78</td>\n",
       "      <td>1.68</td>\n",
       "      <td>3.18</td>\n",
       "      <td>2.79</td>\n",
       "      <td>1.34</td>\n",
       "      <td>2.80</td>\n",
       "    </tr>\n",
       "    <tr>\n",
       "      <th>977</th>\n",
       "      <td>0.61</td>\n",
       "      <td>1.32</td>\n",
       "      <td>0.67</td>\n",
       "      <td>0.43</td>\n",
       "      <td>1.30</td>\n",
       "      <td>1.78</td>\n",
       "      <td>3.17</td>\n",
       "      <td>2.81</td>\n",
       "      <td>1.34</td>\n",
       "      <td>3.02</td>\n",
       "    </tr>\n",
       "    <tr>\n",
       "      <th>978</th>\n",
       "      <td>0.93</td>\n",
       "      <td>0.20</td>\n",
       "      <td>0.13</td>\n",
       "      <td>0.43</td>\n",
       "      <td>0.30</td>\n",
       "      <td>0.40</td>\n",
       "      <td>3.18</td>\n",
       "      <td>2.98</td>\n",
       "      <td>1.12</td>\n",
       "      <td>2.46</td>\n",
       "    </tr>\n",
       "    <tr>\n",
       "      <th>979</th>\n",
       "      <td>0.93</td>\n",
       "      <td>0.56</td>\n",
       "      <td>1.13</td>\n",
       "      <td>0.51</td>\n",
       "      <td>1.34</td>\n",
       "      <td>2.36</td>\n",
       "      <td>3.18</td>\n",
       "      <td>2.87</td>\n",
       "      <td>1.34</td>\n",
       "      <td>2.40</td>\n",
       "    </tr>\n",
       "  </tbody>\n",
       "</table>\n",
       "<p>980 rows × 10 columns</p>\n",
       "</div>"
      ],
      "text/plain": [
       "     Galerias Arte  Baladas  Loja Sucos  Restaurantes  Museus  Resorts  \\\n",
       "0             0.93     1.80        2.29          0.62    0.80     2.42   \n",
       "1             1.02     2.20        2.66          0.64    1.42     3.18   \n",
       "2             1.22     0.80        0.54          0.53    0.24     1.54   \n",
       "3             0.45     1.80        0.29          0.57    0.46     1.52   \n",
       "4             0.51     1.20        1.18          0.57    1.54     2.02   \n",
       "..             ...      ...         ...           ...     ...      ...   \n",
       "975           0.74     1.12        0.30          0.53    0.88     1.38   \n",
       "976           1.25     0.92        1.12          0.38    0.78     1.68   \n",
       "977           0.61     1.32        0.67          0.43    1.30     1.78   \n",
       "978           0.93     0.20        0.13          0.43    0.30     0.40   \n",
       "979           0.93     0.56        1.13          0.51    1.34     2.36   \n",
       "\n",
       "     Parques  Praias  Teatros  Templos Religiosos  \n",
       "0       3.19    2.79     1.82                2.42  \n",
       "1       3.21    2.63     1.86                2.32  \n",
       "2       3.18    2.80     1.31                2.50  \n",
       "3       3.18    2.96     1.57                2.86  \n",
       "4       3.18    2.78     1.18                2.54  \n",
       "..       ...     ...      ...                 ...  \n",
       "975     3.17    2.78     0.99                3.20  \n",
       "976     3.18    2.79     1.34                2.80  \n",
       "977     3.17    2.81     1.34                3.02  \n",
       "978     3.18    2.98     1.12                2.46  \n",
       "979     3.18    2.87     1.34                2.40  \n",
       "\n",
       "[980 rows x 10 columns]"
      ]
     },
     "execution_count": 142,
     "metadata": {},
     "output_type": "execute_result"
    }
   ],
   "source": [
    "df = df.apply(lambda col: col.replace('.', ',').astype(float))\n",
    "df"
   ]
  },
  {
   "cell_type": "code",
   "execution_count": 143,
   "id": "7521fc9d",
   "metadata": {},
   "outputs": [],
   "source": [
    "# sns.boxplot(df['Restaurantes'])\n",
    "# plt.show()"
   ]
  },
  {
   "cell_type": "code",
   "execution_count": 144,
   "id": "a75dbc99",
   "metadata": {},
   "outputs": [],
   "source": [
    "# sns.histplot(df['Baladas'])"
   ]
  },
  {
   "cell_type": "code",
   "execution_count": 145,
   "id": "ca3f86cb",
   "metadata": {},
   "outputs": [],
   "source": [
    "# sns.scatterplot(data=df, x=\"Praias\", y=\"Baladas\")"
   ]
  },
  {
   "cell_type": "markdown",
   "id": "49e1059d",
   "metadata": {},
   "source": [
    "##### Separando entre treinamento e teste (75% treino e 25% de teste)"
   ]
  },
  {
   "cell_type": "code",
   "execution_count": 146,
   "id": "1bd7902e",
   "metadata": {},
   "outputs": [],
   "source": [
    "from sklearn.model_selection import train_test_split\n",
    "\n",
    "# split entre treinamento e teste \n",
    "X_train, X_test, y_train, y_test = train_test_split(df.drop('Baladas', axis=1),\n",
    "                                                    df['Baladas'],\n",
    "                                                    test_size=0.25,\n",
    "                                                    random_state=0) "
   ]
  },
  {
   "cell_type": "markdown",
   "id": "8734db1b",
   "metadata": {},
   "source": [
    "## Treinamento dos modelos"
   ]
  },
  {
   "cell_type": "markdown",
   "id": "07175e6a",
   "metadata": {},
   "source": [
    "### KNN para regressão"
   ]
  },
  {
   "cell_type": "code",
   "execution_count": 147,
   "id": "e5003280",
   "metadata": {},
   "outputs": [
    {
     "data": {
      "text/plain": [
       "0.13639483791844376"
      ]
     },
     "execution_count": 147,
     "metadata": {},
     "output_type": "execute_result"
    }
   ],
   "source": [
    "from sklearn.neighbors import KNeighborsRegressor # KNN para regressão\n",
    "modelo_knn = KNeighborsRegressor().fit(X_train, y_train)\n",
    "modelo_knn.score(X_test, y_test)"
   ]
  },
  {
   "cell_type": "markdown",
   "id": "48ef081e",
   "metadata": {},
   "source": [
    " ### Regressão linear"
   ]
  },
  {
   "cell_type": "code",
   "execution_count": 148,
   "id": "234ad3de",
   "metadata": {},
   "outputs": [
    {
     "data": {
      "text/plain": [
       "0.17527295952698618"
      ]
     },
     "execution_count": 148,
     "metadata": {},
     "output_type": "execute_result"
    }
   ],
   "source": [
    "from sklearn.linear_model import LinearRegression # Regressão linear\n",
    "modelo_lr = LinearRegression().fit(X_train, y_train)\n",
    "modelo_lr.score(X_test, y_test)"
   ]
  },
  {
   "cell_type": "markdown",
   "id": "d8b359e4",
   "metadata": {},
   "source": [
    "### SVM para regressão"
   ]
  },
  {
   "cell_type": "code",
   "execution_count": 149,
   "id": "ab30deec",
   "metadata": {},
   "outputs": [
    {
     "data": {
      "text/plain": [
       "0.1397236076281443"
      ]
     },
     "execution_count": 149,
     "metadata": {},
     "output_type": "execute_result"
    }
   ],
   "source": [
    "from sklearn.svm import SVR # SVM para regressão\n",
    "modelo_svm = SVR().fit(X_train, y_train)\n",
    "modelo_svm.score(X_test, y_test)"
   ]
  },
  {
   "cell_type": "markdown",
   "id": "9c44467f",
   "metadata": {},
   "source": [
    "# Usando o scaler para padronizar as notas"
   ]
  },
  {
   "cell_type": "code",
   "execution_count": 150,
   "id": "c7d8df4d",
   "metadata": {},
   "outputs": [],
   "source": [
    "from sklearn.decomposition import PCA # PCA como aprendizagem não-supervisionada\n",
    "from sklearn.preprocessing import RobustScaler # utilizado para que todas as entradas estejam na mesma escala numérica\n",
    "# split entre treinamento e teste\n",
    "X_train, X_test, y_train, y_test = train_test_split(RobustScaler().fit_transform(df.drop('Baladas', axis=1)), # aqui informamos os atributos\n",
    "                                                                        df['Baladas'], # aqui informamos as labels e na mesma ordem dos atributos\n",
    "                                                                        test_size=0.25, # informamos a porcentagem de divisão da base. Geralmente é algo entre 20% (0.20) a 35% (0.35)\n",
    "                                                                        random_state=0) # aqui informamos um \"seed\". É um valor aleatório e usado para que alguns algoritmos iniciem de forma aleatória a sua divisão."
   ]
  },
  {
   "cell_type": "markdown",
   "id": "9c47932e",
   "metadata": {},
   "source": [
    "## Treinamento dos modelos"
   ]
  },
  {
   "cell_type": "markdown",
   "id": "6c64d163",
   "metadata": {},
   "source": [
    "### modelo KNN"
   ]
  },
  {
   "cell_type": "code",
   "execution_count": 151,
   "id": "3aca58a4",
   "metadata": {},
   "outputs": [
    {
     "data": {
      "text/plain": [
       "0.15473340580316086"
      ]
     },
     "execution_count": 151,
     "metadata": {},
     "output_type": "execute_result"
    }
   ],
   "source": [
    "modelo_knn = KNeighborsRegressor().fit(X_train, y_train)\n",
    "modelo_knn.score(X_test, y_test)"
   ]
  },
  {
   "cell_type": "markdown",
   "id": "568a091b",
   "metadata": {},
   "source": [
    "### modelo Regressao Linear"
   ]
  },
  {
   "cell_type": "code",
   "execution_count": 152,
   "id": "18ab01d0",
   "metadata": {},
   "outputs": [
    {
     "data": {
      "text/plain": [
       "0.1752729595269873"
      ]
     },
     "execution_count": 152,
     "metadata": {},
     "output_type": "execute_result"
    }
   ],
   "source": [
    "modelo_lr = LinearRegression().fit(X_train, y_train)\n",
    "modelo_lr.score(X_test, y_test)"
   ]
  },
  {
   "cell_type": "markdown",
   "id": "5effe7e2",
   "metadata": {},
   "source": [
    "### modelo SVM"
   ]
  },
  {
   "cell_type": "code",
   "execution_count": 153,
   "id": "10cea6dd",
   "metadata": {},
   "outputs": [
    {
     "data": {
      "text/plain": [
       "0.20528632913158507"
      ]
     },
     "execution_count": 153,
     "metadata": {},
     "output_type": "execute_result"
    }
   ],
   "source": [
    "modelo_svm = SVR().fit(X_train, y_train)\n",
    "modelo_svm.score(X_test, y_test)"
   ]
  },
  {
   "cell_type": "markdown",
   "id": "9f8a6316",
   "metadata": {},
   "source": [
    "## Gerando as predições com o modelo SVM"
   ]
  },
  {
   "cell_type": "code",
   "execution_count": 154,
   "id": "0d5f0856",
   "metadata": {
    "scrolled": true
   },
   "outputs": [
    {
     "data": {
      "text/plain": [
       "array([1.376, 1.284, 1.203, 0.481, 1.453, 1.44 , 1.32 , 1.396, 1.625,\n",
       "       1.157, 1.491, 1.146, 1.106, 1.236, 1.3  , 1.401, 1.142, 1.335,\n",
       "       1.118, 1.343, 1.131, 1.191, 1.257, 1.786, 1.319, 1.509, 1.278,\n",
       "       1.111, 1.093, 1.422, 1.424, 1.054, 1.44 , 1.342, 1.132, 1.357,\n",
       "       1.536, 1.489, 1.273, 1.253, 0.999, 1.373, 1.341, 1.026, 1.432,\n",
       "       1.116, 1.849, 1.588, 1.239, 1.325, 1.26 , 1.093, 1.293, 1.735,\n",
       "       1.257, 1.388, 0.844, 1.296, 1.282, 1.18 , 1.571, 1.272, 1.25 ,\n",
       "       1.643, 1.429, 1.403, 1.462, 1.319, 1.2  , 1.419, 1.442, 1.355,\n",
       "       1.106, 1.28 , 1.18 , 1.152, 1.089, 1.198, 1.13 , 0.721, 1.445,\n",
       "       1.327, 1.356, 1.318, 0.994, 1.152, 1.341, 1.45 , 1.293, 1.403,\n",
       "       1.164, 1.326, 1.71 , 1.113, 0.398, 1.556, 1.186, 1.289, 1.639,\n",
       "       1.258, 1.294, 1.268, 1.281, 1.061, 1.344, 1.219, 1.341, 1.349,\n",
       "       1.287, 1.496, 1.293, 1.063, 1.365, 1.582, 1.089, 1.29 , 1.191,\n",
       "       1.252, 1.247, 1.163, 1.31 , 1.417, 1.469, 1.134, 1.159, 1.356,\n",
       "       1.192, 1.324, 1.575, 1.362, 1.313, 1.128, 1.378, 1.428, 1.519,\n",
       "       1.524, 1.496, 1.014, 1.169, 1.317, 1.235, 1.217, 1.418, 1.057,\n",
       "       1.457, 1.282, 1.252, 1.702, 1.571, 1.384, 1.356, 1.116, 1.348,\n",
       "       1.313, 1.672, 1.374, 1.026, 0.898, 1.096, 1.429, 1.371, 1.273,\n",
       "       0.993, 1.378, 0.664, 1.009, 1.048, 1.113, 1.404, 1.685, 1.239,\n",
       "       1.21 , 1.267, 1.192, 2.221, 1.241, 1.441, 1.203, 1.163, 1.375,\n",
       "       1.422, 1.23 , 1.149, 1.21 , 1.376, 1.463, 1.291, 1.227, 1.212,\n",
       "       1.253, 1.329, 1.244, 1.817, 1.17 , 1.347, 1.521, 1.292, 1.187,\n",
       "       1.428, 0.743, 1.34 , 1.054, 1.299, 1.193, 1.435, 1.375, 1.344,\n",
       "       1.553, 1.122, 0.976, 1.107, 1.356, 1.39 , 1.345, 1.404, 1.763,\n",
       "       1.466, 1.173, 1.457, 1.355, 0.962, 1.547, 1.381, 1.191, 1.446,\n",
       "       1.193, 1.151, 0.936, 1.408, 1.465, 1.618, 1.267, 1.378, 1.237,\n",
       "       1.3  , 1.589, 1.265, 1.777, 0.974, 1.138, 1.248, 1.114, 1.048,\n",
       "       1.162, 1.218])"
      ]
     },
     "execution_count": 154,
     "metadata": {},
     "output_type": "execute_result"
    }
   ],
   "source": [
    "# gerando as predições \n",
    "modelo_svm.predict(X_test).round(3)"
   ]
  },
  {
   "cell_type": "markdown",
   "id": "68b74bd5",
   "metadata": {},
   "source": [
    "##### Exibindo um quadro com os resultados reais, de teste e os previstos em 3 modelos de regressão."
   ]
  },
  {
   "cell_type": "code",
   "execution_count": 155,
   "id": "49ac20c9",
   "metadata": {
    "scrolled": false
   },
   "outputs": [
    {
     "data": {
      "text/html": [
       "<div>\n",
       "<style scoped>\n",
       "    .dataframe tbody tr th:only-of-type {\n",
       "        vertical-align: middle;\n",
       "    }\n",
       "\n",
       "    .dataframe tbody tr th {\n",
       "        vertical-align: top;\n",
       "    }\n",
       "\n",
       "    .dataframe thead th {\n",
       "        text-align: right;\n",
       "    }\n",
       "</style>\n",
       "<table border=\"1\" class=\"dataframe\">\n",
       "  <thead>\n",
       "    <tr style=\"text-align: right;\">\n",
       "      <th></th>\n",
       "      <th>0</th>\n",
       "      <th>1</th>\n",
       "      <th>2</th>\n",
       "      <th>3</th>\n",
       "      <th>4</th>\n",
       "      <th>5</th>\n",
       "      <th>6</th>\n",
       "      <th>7</th>\n",
       "      <th>8</th>\n",
       "      <th>Real</th>\n",
       "      <th>Teste</th>\n",
       "      <th>Predição SVM</th>\n",
       "      <th>KNN</th>\n",
       "      <th>Linear</th>\n",
       "    </tr>\n",
       "  </thead>\n",
       "  <tbody>\n",
       "    <tr>\n",
       "      <th>0</th>\n",
       "      <td>0.29</td>\n",
       "      <td>0.08</td>\n",
       "      <td>-0.24</td>\n",
       "      <td>-0.86</td>\n",
       "      <td>-0.41</td>\n",
       "      <td>0.00</td>\n",
       "      <td>-0.71</td>\n",
       "      <td>0.71</td>\n",
       "      <td>0.40</td>\n",
       "      <td>1.52</td>\n",
       "      <td>1.28</td>\n",
       "      <td>1.38</td>\n",
       "      <td>1.62</td>\n",
       "      <td>1.42</td>\n",
       "    </tr>\n",
       "    <tr>\n",
       "      <th>1</th>\n",
       "      <td>-0.26</td>\n",
       "      <td>0.72</td>\n",
       "      <td>0.24</td>\n",
       "      <td>0.14</td>\n",
       "      <td>-0.03</td>\n",
       "      <td>0.01</td>\n",
       "      <td>-0.94</td>\n",
       "      <td>-0.71</td>\n",
       "      <td>-0.88</td>\n",
       "      <td>0.96</td>\n",
       "      <td>2.72</td>\n",
       "      <td>1.28</td>\n",
       "      <td>1.23</td>\n",
       "      <td>1.41</td>\n",
       "    </tr>\n",
       "    <tr>\n",
       "      <th>2</th>\n",
       "      <td>-0.46</td>\n",
       "      <td>0.83</td>\n",
       "      <td>-0.29</td>\n",
       "      <td>1.00</td>\n",
       "      <td>0.08</td>\n",
       "      <td>0.00</td>\n",
       "      <td>-0.76</td>\n",
       "      <td>-1.22</td>\n",
       "      <td>-0.08</td>\n",
       "      <td>0.76</td>\n",
       "      <td>1.36</td>\n",
       "      <td>1.20</td>\n",
       "      <td>1.46</td>\n",
       "      <td>1.33</td>\n",
       "    </tr>\n",
       "    <tr>\n",
       "      <th>3</th>\n",
       "      <td>2.37</td>\n",
       "      <td>-0.30</td>\n",
       "      <td>0.53</td>\n",
       "      <td>-0.18</td>\n",
       "      <td>-1.00</td>\n",
       "      <td>0.00</td>\n",
       "      <td>0.76</td>\n",
       "      <td>-0.36</td>\n",
       "      <td>-0.60</td>\n",
       "      <td>0.20</td>\n",
       "      <td>0.24</td>\n",
       "      <td>0.48</td>\n",
       "      <td>0.71</td>\n",
       "      <td>0.95</td>\n",
       "    </tr>\n",
       "    <tr>\n",
       "      <th>4</th>\n",
       "      <td>-0.46</td>\n",
       "      <td>-0.43</td>\n",
       "      <td>0.35</td>\n",
       "      <td>-0.50</td>\n",
       "      <td>-0.73</td>\n",
       "      <td>0.00</td>\n",
       "      <td>-0.06</td>\n",
       "      <td>0.00</td>\n",
       "      <td>0.24</td>\n",
       "      <td>1.44</td>\n",
       "      <td>1.48</td>\n",
       "      <td>1.45</td>\n",
       "      <td>1.38</td>\n",
       "      <td>1.45</td>\n",
       "    </tr>\n",
       "    <tr>\n",
       "      <th>...</th>\n",
       "      <td>...</td>\n",
       "      <td>...</td>\n",
       "      <td>...</td>\n",
       "      <td>...</td>\n",
       "      <td>...</td>\n",
       "      <td>...</td>\n",
       "      <td>...</td>\n",
       "      <td>...</td>\n",
       "      <td>...</td>\n",
       "      <td>...</td>\n",
       "      <td>...</td>\n",
       "      <td>...</td>\n",
       "      <td>...</td>\n",
       "      <td>...</td>\n",
       "    </tr>\n",
       "    <tr>\n",
       "      <th>240</th>\n",
       "      <td>-0.46</td>\n",
       "      <td>0.06</td>\n",
       "      <td>0.00</td>\n",
       "      <td>0.43</td>\n",
       "      <td>0.46</td>\n",
       "      <td>0.00</td>\n",
       "      <td>2.24</td>\n",
       "      <td>-0.51</td>\n",
       "      <td>0.08</td>\n",
       "      <td>0.88</td>\n",
       "      <td>1.20</td>\n",
       "      <td>1.25</td>\n",
       "      <td>1.29</td>\n",
       "      <td>1.23</td>\n",
       "    </tr>\n",
       "    <tr>\n",
       "      <th>241</th>\n",
       "      <td>-0.26</td>\n",
       "      <td>1.48</td>\n",
       "      <td>-0.29</td>\n",
       "      <td>0.14</td>\n",
       "      <td>-0.08</td>\n",
       "      <td>0.02</td>\n",
       "      <td>0.29</td>\n",
       "      <td>-0.36</td>\n",
       "      <td>-0.88</td>\n",
       "      <td>1.48</td>\n",
       "      <td>1.44</td>\n",
       "      <td>1.11</td>\n",
       "      <td>1.19</td>\n",
       "      <td>1.33</td>\n",
       "    </tr>\n",
       "    <tr>\n",
       "      <th>242</th>\n",
       "      <td>0.00</td>\n",
       "      <td>0.15</td>\n",
       "      <td>-0.65</td>\n",
       "      <td>-0.36</td>\n",
       "      <td>-0.65</td>\n",
       "      <td>0.00</td>\n",
       "      <td>0.29</td>\n",
       "      <td>-0.51</td>\n",
       "      <td>-0.64</td>\n",
       "      <td>1.28</td>\n",
       "      <td>1.36</td>\n",
       "      <td>1.05</td>\n",
       "      <td>1.58</td>\n",
       "      <td>1.14</td>\n",
       "    </tr>\n",
       "    <tr>\n",
       "      <th>243</th>\n",
       "      <td>-0.91</td>\n",
       "      <td>0.91</td>\n",
       "      <td>-0.59</td>\n",
       "      <td>-0.75</td>\n",
       "      <td>0.38</td>\n",
       "      <td>0.01</td>\n",
       "      <td>-1.53</td>\n",
       "      <td>-0.87</td>\n",
       "      <td>-0.76</td>\n",
       "      <td>2.12</td>\n",
       "      <td>1.28</td>\n",
       "      <td>1.16</td>\n",
       "      <td>1.46</td>\n",
       "      <td>1.53</td>\n",
       "    </tr>\n",
       "    <tr>\n",
       "      <th>244</th>\n",
       "      <td>-0.17</td>\n",
       "      <td>-0.51</td>\n",
       "      <td>0.53</td>\n",
       "      <td>0.07</td>\n",
       "      <td>0.19</td>\n",
       "      <td>0.00</td>\n",
       "      <td>1.41</td>\n",
       "      <td>-0.29</td>\n",
       "      <td>-0.24</td>\n",
       "      <td>1.72</td>\n",
       "      <td>1.40</td>\n",
       "      <td>1.22</td>\n",
       "      <td>1.29</td>\n",
       "      <td>1.31</td>\n",
       "    </tr>\n",
       "  </tbody>\n",
       "</table>\n",
       "<p>245 rows × 14 columns</p>\n",
       "</div>"
      ],
      "text/plain": [
       "        0     1     2     3     4     5     6     7     8  Real  Teste  \\\n",
       "0    0.29  0.08 -0.24 -0.86 -0.41  0.00 -0.71  0.71  0.40  1.52   1.28   \n",
       "1   -0.26  0.72  0.24  0.14 -0.03  0.01 -0.94 -0.71 -0.88  0.96   2.72   \n",
       "2   -0.46  0.83 -0.29  1.00  0.08  0.00 -0.76 -1.22 -0.08  0.76   1.36   \n",
       "3    2.37 -0.30  0.53 -0.18 -1.00  0.00  0.76 -0.36 -0.60  0.20   0.24   \n",
       "4   -0.46 -0.43  0.35 -0.50 -0.73  0.00 -0.06  0.00  0.24  1.44   1.48   \n",
       "..    ...   ...   ...   ...   ...   ...   ...   ...   ...   ...    ...   \n",
       "240 -0.46  0.06  0.00  0.43  0.46  0.00  2.24 -0.51  0.08  0.88   1.20   \n",
       "241 -0.26  1.48 -0.29  0.14 -0.08  0.02  0.29 -0.36 -0.88  1.48   1.44   \n",
       "242  0.00  0.15 -0.65 -0.36 -0.65  0.00  0.29 -0.51 -0.64  1.28   1.36   \n",
       "243 -0.91  0.91 -0.59 -0.75  0.38  0.01 -1.53 -0.87 -0.76  2.12   1.28   \n",
       "244 -0.17 -0.51  0.53  0.07  0.19  0.00  1.41 -0.29 -0.24  1.72   1.40   \n",
       "\n",
       "     Predição SVM   KNN  Linear  \n",
       "0            1.38  1.62    1.42  \n",
       "1            1.28  1.23    1.41  \n",
       "2            1.20  1.46    1.33  \n",
       "3            0.48  0.71    0.95  \n",
       "4            1.45  1.38    1.45  \n",
       "..            ...   ...     ...  \n",
       "240          1.25  1.29    1.23  \n",
       "241          1.11  1.19    1.33  \n",
       "242          1.05  1.58    1.14  \n",
       "243          1.16  1.46    1.53  \n",
       "244          1.22  1.29    1.31  \n",
       "\n",
       "[245 rows x 14 columns]"
      ]
     },
     "execution_count": 155,
     "metadata": {},
     "output_type": "execute_result"
    }
   ],
   "source": [
    "df_test = pd.DataFrame(X_test)\n",
    "df_test['Real'] = df['Baladas'][705:950].values \n",
    "df_test['Teste'] = y_test.values\n",
    "df_test['Predição SVM'] = modelo_svm.predict(X_test)\n",
    "df_test['KNN'] = modelo_knn.predict(X_test)\n",
    "df_test['Linear'] = modelo_lr.predict(X_test)\n",
    "df_test.round(2)"
   ]
  },
  {
   "cell_type": "markdown",
   "id": "9c74206c",
   "metadata": {},
   "source": [
    "## Conclusões"
   ]
  },
  {
   "cell_type": "markdown",
   "id": "a174bcdc",
   "metadata": {},
   "source": [
    "    Para este projeto do Banco de Dados do Trip Advisor, foi utilizada a aprendizagem supervisionada de regressão, pois o objetivo era prever um valor de nota que um usuário daria para uma das categorias (Baladas) segundo as outras notas em outras categorias.\n",
    "    \n",
    "    O problema proposto foi resolvido usando técnicas incluídas no Scikit-learn, Analogizers de regressão linear e com os modelos KNN e SVM.\n",
    "    \n",
    "    Observou-se que ao utilizar o escaler para padronizar as notas médias, o método SVM apresentou a maior taxa de acerto, de 0.20."
   ]
  },
  {
   "cell_type": "markdown",
   "id": "34d23e2c",
   "metadata": {},
   "source": [
    "obs.: Encontrou-se nesta base de dados uma dificuldade em representar graficamente os dados e os resultados, em virtude de ora bibliotecas faltando ora incompatibilidades que necessitam um aprimoramento maior por parte da equipe envolvida. Tais partes, bibliotecas do seaborn, estão comentadas no código acima para o não impedimento do funcionamento da ML, e ficarão para uma correção futura."
   ]
  }
 ],
 "metadata": {
  "kernelspec": {
   "display_name": "Python 3",
   "language": "python",
   "name": "python3"
  },
  "language_info": {
   "codemirror_mode": {
    "name": "ipython",
    "version": 3
   },
   "file_extension": ".py",
   "mimetype": "text/x-python",
   "name": "python",
   "nbconvert_exporter": "python",
   "pygments_lexer": "ipython3",
   "version": "3.8.8"
  }
 },
 "nbformat": 4,
 "nbformat_minor": 5
}
